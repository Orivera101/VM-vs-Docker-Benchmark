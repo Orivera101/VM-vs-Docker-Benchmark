{
 "cells": [
  {
   "cell_type": "code",
   "execution_count": 6,
   "id": "00cd0376-ddcc-4f3a-bd91-dbaccdc2f992",
   "metadata": {},
   "outputs": [
    {
     "name": "stdout",
     "output_type": "stream",
     "text": [
      "Benchmark: Uso de recursos (CPU, RAM, Disco)\n",
      "\n",
      "Uso de CPU (reposo):\n",
      "CPU utilizada (reposo): 4.50%\n",
      "\n",
      "Estresando CPU durante 5 segundos...\n",
      "CPU utilizada (carga): 2.90%\n",
      "\n",
      "Memoria RAM utilizada: 9.98 GB / 15.25 GB (65.5%)\n",
      "\n",
      "Espacio en disco (sistema de archivos '/'): \n",
      "Total: 926.47 GB\n",
      "Usado: 895.27 GB\n",
      "Libre: 31.20 GB\n"
     ]
    }
   ],
   "source": [
    "import psutil\n",
    "import shutil\n",
    "import os\n",
    "import platform\n",
    "import time\n",
    "from datetime import datetime\n",
    "import matplotlib.pyplot as plt\n",
    "\n",
    "print(\"Uso de recursos (CPU, RAM, Disco)\")\n",
    "\n",
    "# 1. CPU (porcentaje de uso durante 5 segundos en reposo)\n",
    "print(\"\\nUso de CPU (reposo):\")\n",
    "cpu_idle = psutil.cpu_percent(interval=5)\n",
    "print(f\"CPU utilizada (reposo): {cpu_idle:.2f}%\")\n",
    "\n",
    "# Simular carga para estrés (5 segundos)\n",
    "print(\"\\nEstresando CPU durante 5 segundos...\")\n",
    "start = time.time()\n",
    "while time.time() - start < 5:\n",
    "    [x**2 for x in range(10000)]\n",
    "\n",
    "cpu_load = psutil.cpu_percent(interval=1)\n",
    "print(f\"CPU utilizada (carga): {cpu_load:.2f}%\")\n",
    "\n",
    "# 2. RAM\n",
    "mem = psutil.virtual_memory()\n",
    "total_ram = mem.total / (1024**3)\n",
    "used_ram = mem.used / (1024**3)\n",
    "percent_ram = mem.percent\n",
    "print(f\"\\nMemoria RAM utilizada: {used_ram:.2f} GB / {total_ram:.2f} GB ({percent_ram}%)\")\n",
    "\n",
    "# 3. Disco\n",
    "total, used, free = shutil.disk_usage(\"/\")\n",
    "print(f\"\\nEspacio en disco (sistema de archivos '/'): \")\n",
    "print(f\"Total: {total / (1024**3):.2f} GB\")\n",
    "print(f\"Usado: {used / (1024**3):.2f} GB\")\n",
    "print(f\"Libre: {free / (1024**3):.2f} GB\")"
   ]
  },
  {
   "cell_type": "code",
   "execution_count": 7,
   "id": "5029fb48-d78e-4fc4-ab97-1225fa551e0f",
   "metadata": {},
   "outputs": [
    {
     "name": "stdout",
     "output_type": "stream",
     "text": [
      "Midiendo tiempo de arranque del contenedor Docker...\n",
      "Tiempo de arranque (Docker): 0.27 segundos\n"
     ]
    }
   ],
   "source": [
    "import subprocess\n",
    "import time\n",
    "\n",
    "print(\"Midiendo tiempo de arranque del contenedor Docker...\")\n",
    "\n",
    "# Parar cualquier contenedor previo\n",
    "subprocess.run(\"docker compose down\", shell=True)\n",
    "\n",
    "# Medir tiempo de arranque\n",
    "start = time.time()\n",
    "subprocess.run(\"docker compose up --build -d\", shell=True)\n",
    "end = time.time()\n",
    "\n",
    "boot_time = end - start\n",
    "print(f\"Tiempo de arranque (Docker): {boot_time:.2f} segundos\")\n"
   ]
  },
  {
   "cell_type": "code",
   "execution_count": 10,
   "id": "dbcd3ed2-8d2b-48b9-a9fe-cea3dfceec9c",
   "metadata": {},
   "outputs": [
    {
     "name": "stdout",
     "output_type": "stream",
     "text": [
      "Paso 3 – Benchmark de rendimiento (CPU, RAM, Disco, Red)\n",
      "\n",
      "CPU Benchmark...\n",
      "Tiempo de bucle vacío (CPU): 0.47 segundos\n",
      "\n",
      "Uso de Memoria RAM:\n",
      "RAM usada: 11.24 GB / 15.25 GB (73.7%)\n",
      "\n",
      "Disco – Escritura...\n",
      "Tiempo de escritura 100MB: 0.30 segundos\n",
      "\n",
      "Disco – Lectura...\n",
      "Tiempo de lectura 100MB: 0.08 segundos\n",
      "\n",
      "Benchmark de red – Descargando archivo de prueba (10MB)...\n",
      "🌐 Tiempo de descarga 10MB: 13.15 segundos\n"
     ]
    }
   ],
   "source": [
    "import time\n",
    "import psutil\n",
    "import shutil\n",
    "import os\n",
    "import requests\n",
    "\n",
    "# CPU\n",
    "print(\"Benchmark de rendimiento (CPU, RAM, Disco, Red)\\n\")\n",
    "\n",
    "print(\"CPU Benchmark...\")\n",
    "start = time.time()\n",
    "for _ in range(10**7):\n",
    "    pass\n",
    "cpu_time = time.time() - start\n",
    "print(f\"Tiempo de bucle vacío (CPU): {cpu_time:.2f} segundos\")\n",
    "\n",
    "# RAM\n",
    "print(\"\\nUso de Memoria RAM:\")\n",
    "mem = psutil.virtual_memory()\n",
    "print(f\"RAM usada: {mem.used / (1024**3):.2f} GB / {mem.total / (1024**3):.2f} GB ({mem.percent}%)\")\n",
    "\n",
    "# Disco - Ecritura\n",
    "print(\"\\nDisco – Escritura...\")\n",
    "start = time.time()\n",
    "with open(\"test_benchmark.tmp\", \"wb\") as f:\n",
    "    f.write(os.urandom(100 * 1024 * 1024))  # 100 MB\n",
    "write_time = time.time() - start\n",
    "print(f\"Tiempo de escritura 100MB: {write_time:.2f} segundos\")\n",
    "\n",
    "# Disco – Lectura\n",
    "print(\"\\nDisco – Lectura...\")\n",
    "start = time.time()\n",
    "with open(\"test_benchmark.tmp\", \"rb\") as f:\n",
    "    _ = f.read()\n",
    "read_time = time.time() - start\n",
    "print(f\"Tiempo de lectura 100MB: {read_time:.2f} segundos\")\n",
    "\n",
    "# Eliminar archivo temporal\n",
    "os.remove(\"test_benchmark.tmp\")\n",
    "\n",
    "# Red – Descarga\n",
    "print(\"\\nBenchmark de red – Descargando archivo de prueba (10MB)...\")\n",
    "try:\n",
    "    start = time.time()\n",
    "    r = requests.get(\"http://ipv4.download.thinkbroadband.com/10MB.zip\", timeout=30)\n",
    "    network_time = time.time() - start\n",
    "    print(f\"🌐 Tiempo de descarga 10MB: {network_time:.2f} segundos\")\n",
    "except Exception as e:\n",
    "    print(\"❌ Error en benchmark de red:\", e)\n"
   ]
  },
  {
   "cell_type": "code",
   "execution_count": 11,
   "id": "cca44eaf-24ab-4c7e-af1e-9e44e858ab56",
   "metadata": {},
   "outputs": [
    {
     "name": "stdout",
     "output_type": "stream",
     "text": [
      "Caso de uso: EmuladorJS en ejecución\n",
      "\n",
      "Probando acceso a http://localhost:8080 ...\n",
      "Tiempo de respuesta: 0.02 segundos (HTTP 200)\n",
      "\n",
      "Uso de CPU y RAM actual durante ejecución:\n",
      "CPU: 6.8%\n",
      "RAM usada: 11.23 GB / 15.25 GB (73.7%)\n"
     ]
    }
   ],
   "source": [
    "import time\n",
    "import psutil\n",
    "import requests\n",
    "\n",
    "print(\"Caso de uso: EmuladorJS en ejecución\\n\")\n",
    "\n",
    "url = \"http://localhost:8080\"  # Dirección para Docker\n",
    "\n",
    "print(f\"Probando acceso a {url} ...\")\n",
    "try:\n",
    "    start = time.time()\n",
    "    response = requests.get(url, timeout=10)\n",
    "    load_time = time.time() - start\n",
    "    status = response.status_code\n",
    "    print(f\"Tiempo de respuesta: {load_time:.2f} segundos (HTTP {status})\")\n",
    "except Exception as e:\n",
    "    print(f\"Error accediendo a {url}:\", e)\n",
    "\n",
    "# Uso de recursos mientras está el emulador activo\n",
    "print(\"\\nUso de CPU y RAM actual durante ejecución:\")\n",
    "cpu_percent = psutil.cpu_percent(interval=3)\n",
    "ram = psutil.virtual_memory()\n",
    "print(f\"CPU: {cpu_percent}%\")\n",
    "print(f\"RAM usada: {ram.used / (1024**3):.2f} GB / {ram.total / (1024**3):.2f} GB ({ram.percent}%)\")\n"
   ]
  },
  {
   "cell_type": "code",
   "execution_count": null,
   "id": "eed154c4-eae2-41a5-b677-9ed0d49966de",
   "metadata": {},
   "outputs": [],
   "source": []
  }
 ],
 "metadata": {
  "kernelspec": {
   "display_name": "Python 3 (ipykernel)",
   "language": "python",
   "name": "python3"
  },
  "language_info": {
   "codemirror_mode": {
    "name": "ipython",
    "version": 3
   },
   "file_extension": ".py",
   "mimetype": "text/x-python",
   "name": "python",
   "nbconvert_exporter": "python",
   "pygments_lexer": "ipython3",
   "version": "3.13.3"
  }
 },
 "nbformat": 4,
 "nbformat_minor": 5
}
