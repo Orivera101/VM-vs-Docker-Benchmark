{
 "cells": [
  {
   "cell_type": "code",
   "execution_count": 5,
   "id": "176aca4f-f5d1-4cdd-b127-84bcc4cd5a74",
   "metadata": {},
   "outputs": [
    {
     "name": "stdout",
     "output_type": "stream",
     "text": [
      "Docker levantado\n",
      "RAM usada (sistema): 13.80 GB\n",
      "Uso de CPU (1s): 28.0%\n",
      "Tamaño imagen Docker 'emuladorjs': No se pudo obtener\n"
     ]
    }
   ],
   "source": [
    "import subprocess\n",
    "import time\n",
    "import psutil\n",
    "import os\n",
    "\n",
    "# Levantar el contenedor en segundo plano\n",
    "subprocess.run([\"docker\", \"compose\", \"-f\", \"scripts/Docker/compose.yml\", \"up\", \"-d\"])\n",
    "print(\"Docker levantado\")\n",
    "\n",
    "# Esperar a que arranque el servicio\n",
    "time.sleep(5)\n",
    "\n",
    "# Obtener uso de CPU y RAM total del sistema\n",
    "cpu_percent = psutil.cpu_percent(interval=1)\n",
    "ram_info = psutil.virtual_memory()\n",
    "ram_used = ram_info.used / (1024**3)  # GB\n",
    "\n",
    "# Ver uso de disco de la imagen del emulador\n",
    "image_name = \"emuladorjs\"\n",
    "inspect = subprocess.run(\n",
    "    [\"docker\", \"image\", \"inspect\", image_name, \"--format={{.Size}}\"],\n",
    "    capture_output=True,\n",
    "    text=True\n",
    ")\n",
    "\n",
    "if inspect.returncode == 0 and inspect.stdout.strip().isdigit():\n",
    "    image_size_bytes = int(inspect.stdout.strip())\n",
    "    image_size_gb = image_size_bytes / (1024**3)\n",
    "    image_size_str = f\"{image_size_gb:.2f} GB\"\n",
    "else:\n",
    "    image_size_str = \"No se pudo obtener\"\n",
    "\n",
    "# Parar el contenedor\n",
    "subprocess.run([\"docker\", \"compose\", \"-f\", \"scripts/Docker/compose.yml\", \"down\"])\n",
    "\n",
    "# Mostrar resultados\n",
    "print(f\"RAM usada (sistema): {ram_used:.2f} GB\")\n",
    "print(f\"Uso de CPU (1s): {cpu_percent}%\")\n",
    "print(f\"Tamaño imagen Docker '{image_name}': {image_size_str}\")\n"
   ]
  },
  {
   "cell_type": "code",
   "execution_count": 7,
   "id": "a539fb1c-a081-4238-aec8-fb8f64d58a03",
   "metadata": {},
   "outputs": [
    {
     "name": "stdout",
     "output_type": "stream",
     "text": [
      "Tiempo de arranque Docker: 6.91 segundos\n"
     ]
    }
   ],
   "source": [
    "def medir_tiempo_arranque_docker(imagen=\"emulatorjs/emuladorjs\", nombre_contenedor=\"emulador_benchmark\"):\n",
    "    # Limpiar contenedor previo si existe\n",
    "    subprocess.run(f\"docker rm -f {nombre_contenedor} || true\", shell=True)\n",
    "    \n",
    "    inicio = time.time()\n",
    "    # Arrancar contenedor\n",
    "    subprocess.run(f\"docker run --name {nombre_contenedor} -d -p 8080:80 {imagen}\", shell=True)\n",
    "    \n",
    "    # Esperar unos segundos para que levante\n",
    "    time.sleep(5)\n",
    "    \n",
    "    fin = time.time()\n",
    "    \n",
    "    # Parar y borrar contenedor para limpieza\n",
    "    subprocess.run(f\"docker rm -f {nombre_contenedor}\", shell=True)\n",
    "    \n",
    "    return fin - inicio\n",
    "\n",
    "# Prueba la función\n",
    "tiempo_docker = medir_tiempo_arranque_docker()\n",
    "print(f\"Tiempo de arranque Docker: {tiempo_docker:.2f} segundos\")\n"
   ]
  },
  {
   "cell_type": "code",
   "execution_count": 20,
   "id": "48fbb991-ece7-45b0-8dce-81e2411d050e",
   "metadata": {},
   "outputs": [
    {
     "name": "stdout",
     "output_type": "stream",
     "text": [
      "🔧 Benchmark CPU...\n",
      "Tiempo CPU: 0.90 segundos\n",
      "💾 Benchmark Disco...\n",
      "Escritura 100MB: 0.05 segundos\n",
      "Lectura 100MB: 0.06 segundos\n",
      "🌐 Benchmark Red...\n",
      "Descargados 100.00 MB en 32.18 segundos\n"
     ]
    }
   ],
   "source": [
    "import time\n",
    "import os\n",
    "import requests\n",
    "import urllib3\n",
    "urllib3.disable_warnings(urllib3.exceptions.InsecureRequestWarning)\n",
    "\n",
    "def cpu_benchmark(iterations=10**7):\n",
    "    print(\"🔧 Benchmark CPU...\")\n",
    "    start = time.time()\n",
    "    x = 0\n",
    "    for i in range(iterations):\n",
    "        x += i*i\n",
    "    end = time.time()\n",
    "    print(f\"Tiempo CPU: {end - start:.2f} segundos\")\n",
    "\n",
    "def disk_benchmark(file_path=\"testfile.tmp\", size_mb=100):\n",
    "    print(\"💾 Benchmark Disco...\")\n",
    "\n",
    "    data = b\"0\" * (1024 * 1024)  # 1 MB chunk\n",
    "    chunks = size_mb\n",
    "\n",
    "    # Escritura\n",
    "    start = time.time()\n",
    "    with open(file_path, \"wb\") as f:\n",
    "        for _ in range(chunks):\n",
    "            f.write(data)\n",
    "    end = time.time()\n",
    "    print(f\"Escritura {size_mb}MB: {end - start:.2f} segundos\")\n",
    "\n",
    "    # Lectura\n",
    "    start = time.time()\n",
    "    with open(file_path, \"rb\") as f:\n",
    "        while f.read(1024 * 1024):\n",
    "            pass\n",
    "    end = time.time()\n",
    "    print(f\"Lectura {size_mb}MB: {end - start:.2f} segundos\")\n",
    "\n",
    "    # Borrar archivo\n",
    "    os.remove(file_path)\n",
    "\n",
    "def network_benchmark_debug(url=\"http://ipv4.download.thinkbroadband.com/100MB.zip\"):\n",
    "    print(\"🌐 Benchmark Red...\")\n",
    "    start = time.time()\n",
    "    try:\n",
    "        r = requests.get(url, stream=True, verify=False)\n",
    "        total_bytes = 0\n",
    "        for chunk in r.iter_content(chunk_size=8192):\n",
    "            if chunk:\n",
    "                total_bytes += len(chunk)\n",
    "                #print(f\"Chunk recibido: {len(chunk)} bytes, total acumulado: {total_bytes} bytes\")\n",
    "        r.close()\n",
    "        elapsed = time.time() - start\n",
    "        total_mb = total_bytes / (1024 * 1024)\n",
    "        print(f\"Descargados {total_mb:.2f} MB en {elapsed:.2f} segundos\")\n",
    "    except requests.exceptions.RequestException as e:\n",
    "        print(f\"Error en la descarga: {e}\")\n",
    "\n",
    "# Ejecutar benchmarks\n",
    "cpu_benchmark()\n",
    "disk_benchmark()\n",
    "network_benchmark_debug()\n"
   ]
  },
  {
   "cell_type": "code",
   "execution_count": null,
   "id": "7eea51c2-814e-468d-9bd9-b881716e1fa0",
   "metadata": {},
   "outputs": [],
   "source": []
  }
 ],
 "metadata": {
  "kernelspec": {
   "display_name": "Python 3 (ipykernel)",
   "language": "python",
   "name": "python3"
  },
  "language_info": {
   "codemirror_mode": {
    "name": "ipython",
    "version": 3
   },
   "file_extension": ".py",
   "mimetype": "text/x-python",
   "name": "python",
   "nbconvert_exporter": "python",
   "pygments_lexer": "ipython3",
   "version": "3.13.3"
  }
 },
 "nbformat": 4,
 "nbformat_minor": 5
}
