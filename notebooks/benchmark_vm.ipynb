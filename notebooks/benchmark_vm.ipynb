{
 "cells": [
  {
   "cell_type": "code",
   "execution_count": 5,
   "id": "39af228a-d50f-4309-85de-42816f939b4a",
   "metadata": {},
   "outputs": [
    {
     "name": "stdout",
     "output_type": "stream",
     "text": [
      "🔍 Benchmark: Uso de recursos (CPU, RAM, Disco)\n",
      "\n",
      "🧠 Uso de CPU (reposo):\n",
      "CPU utilizada (reposo): 7.70%\n",
      "\n",
      "🔥 Estresando CPU durante 5 segundos...\n",
      "CPU utilizada (carga): 1.60%\n",
      "\n",
      "🧮 Memoria RAM utilizada: 13.11 GB / 15.25 GB (86.0%)\n",
      "\n",
      "💾 Espacio en disco (sistema de archivos '/'): \n",
      "Total: 926.47 GB\n",
      "Usado: 893.21 GB\n",
      "Libre: 33.25 GB\n"
     ]
    }
   ],
   "source": [
    "import psutil\n",
    "import shutil\n",
    "import os\n",
    "import platform\n",
    "import time\n",
    "from datetime import datetime\n",
    "import matplotlib.pyplot as plt\n",
    "\n",
    "# Título\n",
    "print(\"🔍 Benchmark: Uso de recursos (CPU, RAM, Disco)\")\n",
    "\n",
    "# 📊 1. CPU (porcentaje de uso durante 5 segundos en reposo)\n",
    "print(\"\\n🧠 Uso de CPU (reposo):\")\n",
    "cpu_idle = psutil.cpu_percent(interval=5)\n",
    "print(f\"CPU utilizada (reposo): {cpu_idle:.2f}%\")\n",
    "\n",
    "# Simular carga para estrés (5 segundos)\n",
    "print(\"\\n🔥 Estresando CPU durante 5 segundos...\")\n",
    "start = time.time()\n",
    "while time.time() - start < 5:\n",
    "    [x**2 for x in range(10000)]  # pequeña carga\n",
    "\n",
    "cpu_load = psutil.cpu_percent(interval=1)\n",
    "print(f\"CPU utilizada (carga): {cpu_load:.2f}%\")\n",
    "\n",
    "# 📊 2. RAM\n",
    "mem = psutil.virtual_memory()\n",
    "total_ram = mem.total / (1024**3)\n",
    "used_ram = mem.used / (1024**3)\n",
    "percent_ram = mem.percent\n",
    "print(f\"\\n🧮 Memoria RAM utilizada: {used_ram:.2f} GB / {total_ram:.2f} GB ({percent_ram}%)\")\n",
    "\n",
    "# 📊 3. Disco\n",
    "total, used, free = shutil.disk_usage(\"/\")\n",
    "print(f\"\\n💾 Espacio en disco (sistema de archivos '/'): \")\n",
    "print(f\"Total: {total / (1024**3):.2f} GB\")\n",
    "print(f\"Usado: {used / (1024**3):.2f} GB\")\n",
    "print(f\"Libre: {free / (1024**3):.2f} GB\")\n",
    "\n",
    "# 📌 Guardar resultados en un diccionario (opcional para graficar después)\n",
    "benchmark_results = {\n",
    "    \"timestamp\": datetime.now().isoformat(),\n",
    "    \"cpu_idle\": cpu_idle,\n",
    "    \"cpu_load\": cpu_load,\n",
    "    \"ram_used_gb\": used_ram,\n",
    "    \"ram_total_gb\": total_ram,\n",
    "    \"ram_percent\": percent_ram,\n",
    "    \"disk_total_gb\": total / (1024**3),\n",
    "    \"disk_used_gb\": used / (1024**3),\n",
    "    \"disk_free_gb\": free / (1024**3)\n",
    "}\n",
    "\n",
    "# Puedes guardar esto en un JSON/CSV si quieres comparar luego con pandas\n"
   ]
  },
  {
   "cell_type": "code",
   "execution_count": 6,
   "id": "20b0742b-d993-4a23-b257-dc17d8078d87",
   "metadata": {},
   "outputs": [
    {
     "name": "stdout",
     "output_type": "stream",
     "text": [
      "🚀 Analizando tiempo de arranque con systemd...\n"
     ]
    },
    {
     "ename": "CalledProcessError",
     "evalue": "Command 'systemd-analyze' returned non-zero exit status 1.",
     "output_type": "error",
     "traceback": [
      "\u001b[31m---------------------------------------------------------------------------\u001b[39m",
      "\u001b[31mCalledProcessError\u001b[39m                        Traceback (most recent call last)",
      "\u001b[36mCell\u001b[39m\u001b[36m \u001b[39m\u001b[32mIn[6]\u001b[39m\u001b[32m, line 5\u001b[39m\n\u001b[32m      1\u001b[39m \u001b[38;5;28;01mimport\u001b[39;00m\u001b[38;5;250m \u001b[39m\u001b[34;01msubprocess\u001b[39;00m\n\u001b[32m      3\u001b[39m \u001b[38;5;28mprint\u001b[39m(\u001b[33m\"\u001b[39m\u001b[33m🚀 Analizando tiempo de arranque con systemd...\u001b[39m\u001b[33m\"\u001b[39m)\n\u001b[32m----> \u001b[39m\u001b[32m5\u001b[39m output = \u001b[43msubprocess\u001b[49m\u001b[43m.\u001b[49m\u001b[43mcheck_output\u001b[49m\u001b[43m(\u001b[49m\u001b[33;43m\"\u001b[39;49m\u001b[33;43msystemd-analyze\u001b[39;49m\u001b[33;43m\"\u001b[39;49m\u001b[43m,\u001b[49m\u001b[43m \u001b[49m\u001b[43mshell\u001b[49m\u001b[43m=\u001b[49m\u001b[38;5;28;43;01mTrue\u001b[39;49;00m\u001b[43m)\u001b[49m.decode()\n\u001b[32m      6\u001b[39m \u001b[38;5;28mprint\u001b[39m(\u001b[33mf\u001b[39m\u001b[33m\"\u001b[39m\u001b[33m🕒 \u001b[39m\u001b[38;5;132;01m{\u001b[39;00moutput\u001b[38;5;132;01m}\u001b[39;00m\u001b[33m\"\u001b[39m)\n",
      "\u001b[36mFile \u001b[39m\u001b[32m~\\AppData\\Local\\Programs\\Python\\Python313\\Lib\\subprocess.py:472\u001b[39m, in \u001b[36mcheck_output\u001b[39m\u001b[34m(timeout, *popenargs, **kwargs)\u001b[39m\n\u001b[32m    469\u001b[39m         empty = \u001b[33mb\u001b[39m\u001b[33m'\u001b[39m\u001b[33m'\u001b[39m\n\u001b[32m    470\u001b[39m     kwargs[\u001b[33m'\u001b[39m\u001b[33minput\u001b[39m\u001b[33m'\u001b[39m] = empty\n\u001b[32m--> \u001b[39m\u001b[32m472\u001b[39m \u001b[38;5;28;01mreturn\u001b[39;00m \u001b[43mrun\u001b[49m\u001b[43m(\u001b[49m\u001b[43m*\u001b[49m\u001b[43mpopenargs\u001b[49m\u001b[43m,\u001b[49m\u001b[43m \u001b[49m\u001b[43mstdout\u001b[49m\u001b[43m=\u001b[49m\u001b[43mPIPE\u001b[49m\u001b[43m,\u001b[49m\u001b[43m \u001b[49m\u001b[43mtimeout\u001b[49m\u001b[43m=\u001b[49m\u001b[43mtimeout\u001b[49m\u001b[43m,\u001b[49m\u001b[43m \u001b[49m\u001b[43mcheck\u001b[49m\u001b[43m=\u001b[49m\u001b[38;5;28;43;01mTrue\u001b[39;49;00m\u001b[43m,\u001b[49m\n\u001b[32m    473\u001b[39m \u001b[43m           \u001b[49m\u001b[43m*\u001b[49m\u001b[43m*\u001b[49m\u001b[43mkwargs\u001b[49m\u001b[43m)\u001b[49m.stdout\n",
      "\u001b[36mFile \u001b[39m\u001b[32m~\\AppData\\Local\\Programs\\Python\\Python313\\Lib\\subprocess.py:577\u001b[39m, in \u001b[36mrun\u001b[39m\u001b[34m(input, capture_output, timeout, check, *popenargs, **kwargs)\u001b[39m\n\u001b[32m    575\u001b[39m     retcode = process.poll()\n\u001b[32m    576\u001b[39m     \u001b[38;5;28;01mif\u001b[39;00m check \u001b[38;5;129;01mand\u001b[39;00m retcode:\n\u001b[32m--> \u001b[39m\u001b[32m577\u001b[39m         \u001b[38;5;28;01mraise\u001b[39;00m CalledProcessError(retcode, process.args,\n\u001b[32m    578\u001b[39m                                  output=stdout, stderr=stderr)\n\u001b[32m    579\u001b[39m \u001b[38;5;28;01mreturn\u001b[39;00m CompletedProcess(process.args, retcode, stdout, stderr)\n",
      "\u001b[31mCalledProcessError\u001b[39m: Command 'systemd-analyze' returned non-zero exit status 1."
     ]
    }
   ],
   "source": [
    "import subprocess\n",
    "\n",
    "print(\"🚀 Analizando tiempo de arranque con systemd...\")\n",
    "\n",
    "output = subprocess.check_output(\"systemd-analyze\", shell=True).decode()\n",
    "print(f\"🕒 {output}\")"
   ]
  },
  {
   "cell_type": "code",
   "execution_count": 7,
   "id": "5f3b63f8-6f07-4dea-887c-4460c4af48ed",
   "metadata": {},
   "outputs": [
    {
     "name": "stdout",
     "output_type": "stream",
     "text": [
      "🧪 Paso 3 – Benchmark de rendimiento (CPU, RAM, Disco, Red)\n",
      "\n",
      "🔧 CPU Benchmark...\n",
      "🧠 Tiempo de bucle vacío (CPU): 0.45 segundos\n",
      "\n",
      "📊 Uso de Memoria RAM:\n",
      "RAM usada: 12.71 GB / 15.25 GB (83.4%)\n",
      "\n",
      "💾 Disco – Escritura...\n",
      "📝 Tiempo de escritura 100MB: 0.23 segundos\n",
      "\n",
      "📖 Disco – Lectura...\n",
      "📖 Tiempo de lectura 100MB: 0.08 segundos\n",
      "\n",
      "🌐 Benchmark de red – Descargando archivo de prueba (10MB)...\n",
      "🌐 Tiempo de descarga 10MB: 9.64 segundos\n"
     ]
    }
   ],
   "source": [
    "import time\n",
    "import psutil\n",
    "import shutil\n",
    "import os\n",
    "import requests\n",
    "\n",
    "print(\"🧪 Paso 3 – Benchmark de rendimiento (CPU, RAM, Disco, Red)\\n\")\n",
    "\n",
    "# CPU Benchmark (bucle simple)\n",
    "print(\"🔧 CPU Benchmark...\")\n",
    "start = time.time()\n",
    "for _ in range(10**7):\n",
    "    pass\n",
    "cpu_time = time.time() - start\n",
    "print(f\"🧠 Tiempo de bucle vacío (CPU): {cpu_time:.2f} segundos\")\n",
    "\n",
    "# RAM Benchmark\n",
    "print(\"\\n📊 Uso de Memoria RAM:\")\n",
    "mem = psutil.virtual_memory()\n",
    "print(f\"RAM usada: {mem.used / (1024**3):.2f} GB / {mem.total / (1024**3):.2f} GB ({mem.percent}%)\")\n",
    "\n",
    "# Disco Benchmark – Escritura\n",
    "print(\"\\n💾 Disco – Escritura...\")\n",
    "start = time.time()\n",
    "with open(\"test_benchmark.tmp\", \"wb\") as f:\n",
    "    f.write(os.urandom(100 * 1024 * 1024))  # 100 MB\n",
    "write_time = time.time() - start\n",
    "print(f\"📝 Tiempo de escritura 100MB: {write_time:.2f} segundos\")\n",
    "\n",
    "# Disco Benchmark – Lectura\n",
    "print(\"\\n📖 Disco – Lectura...\")\n",
    "start = time.time()\n",
    "with open(\"test_benchmark.tmp\", \"rb\") as f:\n",
    "    _ = f.read()\n",
    "read_time = time.time() - start\n",
    "print(f\"📖 Tiempo de lectura 100MB: {read_time:.2f} segundos\")\n",
    "\n",
    "# Eliminar archivo temporal\n",
    "os.remove(\"test_benchmark.tmp\")\n",
    "\n",
    "# Red Benchmark – Descarga\n",
    "print(\"\\n🌐 Benchmark de red – Descargando archivo de prueba (10MB)...\")\n",
    "try:\n",
    "    start = time.time()\n",
    "    r = requests.get(\"http://ipv4.download.thinkbroadband.com/10MB.zip\", timeout=30)\n",
    "    network_time = time.time() - start\n",
    "    print(f\"🌐 Tiempo de descarga 10MB: {network_time:.2f} segundos\")\n",
    "except Exception as e:\n",
    "    print(\"❌ Error en benchmark de red:\", e)\n"
   ]
  },
  {
   "cell_type": "code",
   "execution_count": null,
   "id": "75f1c5f3-dcc2-41a6-82ed-8b7fd591a3fb",
   "metadata": {},
   "outputs": [],
   "source": [
    "import time\n",
    "import psutil\n",
    "import requests\n",
    "\n",
    "print(\"🕹️ Paso 4 – Caso de uso: EmuladorJS en ejecución\\n\")\n",
    "\n",
    "# Medimos tiempo de respuesta del servidor (emulador corriendo en localhost o IP)\n",
    "url = \"http://localhost:8080\"  # cambia si es necesario (por IP de VM, ej: http://192.168.56.101)\n",
    "\n",
    "print(f\"🌐 Probando acceso a {url} ...\")\n",
    "try:\n",
    "    start = time.time()\n",
    "    response = requests.get(url, timeout=10)\n",
    "    load_time = time.time() - start\n",
    "    status = response.status_code\n",
    "    print(f\"✅ Tiempo de respuesta: {load_time:.2f} segundos (HTTP {status})\")\n",
    "except Exception as e:\n",
    "    print(f\"❌ Error accediendo a {url}:\", e)\n",
    "\n",
    "# Uso de recursos mientras está el emulador activo\n",
    "print(\"\\n📊 Uso de CPU y RAM actual durante ejecución:\")\n",
    "cpu_percent = psutil.cpu_percent(interval=3)\n",
    "ram = psutil.virtual_memory()\n",
    "print(f\"🧠 CPU: {cpu_percent}%\")\n",
    "print(f\"💾 RAM usada: {ram.used / (1024**3):.2f} GB / {ram.total / (1024**3):.2f} GB ({ram.percent}%)\")\n"
   ]
  }
 ],
 "metadata": {
  "kernelspec": {
   "display_name": "Python 3 (ipykernel)",
   "language": "python",
   "name": "python3"
  },
  "language_info": {
   "codemirror_mode": {
    "name": "ipython",
    "version": 3
   },
   "file_extension": ".py",
   "mimetype": "text/x-python",
   "name": "python",
   "nbconvert_exporter": "python",
   "pygments_lexer": "ipython3",
   "version": "3.13.3"
  }
 },
 "nbformat": 4,
 "nbformat_minor": 5
}
