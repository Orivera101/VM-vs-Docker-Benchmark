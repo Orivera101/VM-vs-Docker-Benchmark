{
 "cells": [
  {
   "cell_type": "code",
   "execution_count": 3,
   "id": "39af228a-d50f-4309-85de-42816f939b4a",
   "metadata": {},
   "outputs": [
    {
     "name": "stdout",
     "output_type": "stream",
     "text": [
      "Benchmark: Uso de recursos (CPU, RAM, Disco)\n",
      "\n",
      "Uso de CPU (reposo):\n",
      "CPU utilizada (reposo): 10.80%\n",
      "\n",
      "Estresando CPU durante 5 segundos...\n",
      "CPU utilizada (carga): 10.20%\n",
      "\n",
      "Memoria RAM utilizada: 1.57 GB / 11.40 GB (16.5%)\n",
      "\n",
      "Espacio en disco (sistema de archivos '/'): \n",
      "Total: 19.02 GB\n",
      "Usado: 15.94 GB\n",
      "Libre: 2.09 GB\n"
     ]
    }
   ],
   "source": [
    "import psutil\n",
    "import shutil\n",
    "import os\n",
    "import platform\n",
    "import time\n",
    "from datetime import datetime\n",
    "import matplotlib.pyplot as plt\n",
    "\n",
    "print(\"Benchmark: Uso de recursos (CPU, RAM, Disco)\")\n",
    "\n",
    "# CPU (porcentaje de uso durante 5 segundos en reposo)\n",
    "print(\"\\nUso de CPU (reposo):\")\n",
    "cpu_idle = psutil.cpu_percent(interval=5)\n",
    "print(f\"CPU utilizada (reposo): {cpu_idle:.2f}%\")\n",
    "\n",
    "# Simular carga para estrés (5 segundos)\n",
    "print(\"\\nEstresando CPU durante 5 segundos...\")\n",
    "start = time.time()\n",
    "while time.time() - start < 5:\n",
    "    [x**2 for x in range(10000)]  # pequeña carga\n",
    "\n",
    "cpu_load = psutil.cpu_percent(interval=1)\n",
    "print(f\"CPU utilizada (carga): {cpu_load:.2f}%\")\n",
    "\n",
    "# RAM\n",
    "mem = psutil.virtual_memory()\n",
    "total_ram = mem.total / (1024**3)\n",
    "used_ram = mem.used / (1024**3)\n",
    "percent_ram = mem.percent\n",
    "print(f\"\\nMemoria RAM utilizada: {used_ram:.2f} GB / {total_ram:.2f} GB ({percent_ram}%)\")\n",
    "\n",
    "# Disco\n",
    "total, used, free = shutil.disk_usage(\"/\")\n",
    "print(f\"\\nEspacio en disco (sistema de archivos '/'): \")\n",
    "print(f\"Total: {total / (1024**3):.2f} GB\")\n",
    "print(f\"Usado: {used / (1024**3):.2f} GB\")\n",
    "print(f\"Libre: {free / (1024**3):.2f} GB\")\n"
   ]
  },
  {
   "cell_type": "code",
   "execution_count": 4,
   "id": "20b0742b-d993-4a23-b257-dc17d8078d87",
   "metadata": {},
   "outputs": [
    {
     "name": "stdout",
     "output_type": "stream",
     "text": [
      "Analizando tiempo de arranque con systemd...\n",
      "Startup finished in 6.991s (kernel) + 38.352s (userspace) = 45.344s \n",
      "graphical.target reached after 38.110s in userspace\n",
      "\n"
     ]
    }
   ],
   "source": [
    "import subprocess\n",
    "\n",
    "print(\"Analizando tiempo de arranque con systemd...\")\n",
    "\n",
    "output = subprocess.check_output(\"systemd-analyze\", shell=True).decode()\n",
    "print(f\"{output}\")"
   ]
  },
  {
   "cell_type": "code",
   "execution_count": 6,
   "id": "5f3b63f8-6f07-4dea-887c-4460c4af48ed",
   "metadata": {},
   "outputs": [
    {
     "name": "stdout",
     "output_type": "stream",
     "text": [
      "Benchmark de rendimiento (CPU, RAM, Disco, Red)\n",
      "\n",
      "CPU Benchmark...\n",
      "Tiempo de bucle vacío (CPU): 0.89 segundos\n",
      "\n",
      "Uso de Memoria RAM:\n",
      "RAM usada: 1.65 GB / 11.40 GB (17.3%)\n",
      "\n",
      "Disco – Escritura...\n",
      "Tiempo de escritura 100MB: 1.37 segundos\n",
      "\n",
      "Disco – Lectura...\n",
      "Tiempo de lectura 100MB: 0.16 segundos\n",
      "\n",
      "Benchmark de red – Descargando archivo de prueba (10MB)...\n",
      "Tiempo de descarga 10MB: 6.59 segundos\n"
     ]
    }
   ],
   "source": [
    "import time\n",
    "import psutil\n",
    "import shutil\n",
    "import os\n",
    "import requests\n",
    "\n",
    "print(\"Benchmark de rendimiento (CPU, RAM, Disco, Red)\\n\")\n",
    "\n",
    "# CPU\n",
    "print(\"CPU Benchmark...\")\n",
    "start = time.time()\n",
    "for _ in range(10**7):\n",
    "    pass\n",
    "cpu_time = time.time() - start\n",
    "print(f\"Tiempo de bucle vacío (CPU): {cpu_time:.2f} segundos\")\n",
    "\n",
    "# RAM\n",
    "print(\"\\nUso de Memoria RAM:\")\n",
    "mem = psutil.virtual_memory()\n",
    "print(f\"RAM usada: {mem.used / (1024**3):.2f} GB / {mem.total / (1024**3):.2f} GB ({mem.percent}%)\")\n",
    "\n",
    "# Disco – Escritura\n",
    "print(\"\\nDisco – Escritura...\")\n",
    "start = time.time()\n",
    "with open(\"test_benchmark.tmp\", \"wb\") as f:\n",
    "    f.write(os.urandom(100 * 1024 * 1024))  # 100 MB\n",
    "write_time = time.time() - start\n",
    "print(f\"Tiempo de escritura 100MB: {write_time:.2f} segundos\")\n",
    "\n",
    "# Disco – Lectura\n",
    "print(\"\\nDisco – Lectura...\")\n",
    "start = time.time()\n",
    "with open(\"test_benchmark.tmp\", \"rb\") as f:\n",
    "    _ = f.read()\n",
    "read_time = time.time() - start\n",
    "print(f\"Tiempo de lectura 100MB: {read_time:.2f} segundos\")\n",
    "\n",
    "os.remove(\"test_benchmark.tmp\")\n",
    "\n",
    "# Red – Descarga\n",
    "print(\"\\nBenchmark de red – Descargando archivo de prueba (10MB)...\")\n",
    "try:\n",
    "    start = time.time()\n",
    "    r = requests.get(\"http://ipv4.download.thinkbroadband.com/10MB.zip\", timeout=30)\n",
    "    network_time = time.time() - start\n",
    "    print(f\"Tiempo de descarga 10MB: {network_time:.2f} segundos\")\n",
    "except Exception as e:\n",
    "    print(\"Error en benchmark de red:\", e)\n"
   ]
  },
  {
   "cell_type": "code",
   "execution_count": 7,
   "id": "75f1c5f3-dcc2-41a6-82ed-8b7fd591a3fb",
   "metadata": {},
   "outputs": [
    {
     "name": "stdout",
     "output_type": "stream",
     "text": [
      "Caso de uso: EmuladorJS en ejecución\n",
      "\n",
      "Probando acceso a http://127.0.0.1 ...\n",
      "Tiempo de respuesta: 0.05 segundos (HTTP 200)\n",
      "\n",
      "Uso de CPU y RAM actual durante ejecución:\n",
      "CPU: 29.8%\n",
      "RAM usada: 1.77 GB / 11.40 GB (18.3%)\n"
     ]
    }
   ],
   "source": [
    "import time\n",
    "import psutil\n",
    "import requests\n",
    "\n",
    "print(\"Caso de uso: EmuladorJS en ejecución\\n\")\n",
    "\n",
    "\n",
    "url = \"http://127.0.0.1\"  # ip de mi maquina virtual\n",
    "\n",
    "print(f\"Probando acceso a {url} ...\")\n",
    "try:\n",
    "    start = time.time()\n",
    "    response = requests.get(url, timeout=10)\n",
    "    load_time = time.time() - start\n",
    "    status = response.status_code\n",
    "    print(f\"Tiempo de respuesta: {load_time:.2f} segundos (HTTP {status})\")\n",
    "except Exception as e:\n",
    "    print(f\"Error accediendo a {url}:\", e)\n",
    "\n",
    "# Uso de recursos mientras está el emulador activo\n",
    "print(\"\\nUso de CPU y RAM actual durante ejecución:\")\n",
    "cpu_percent = psutil.cpu_percent(interval=3)\n",
    "ram = psutil.virtual_memory()\n",
    "print(f\"CPU: {cpu_percent}%\")\n",
    "print(f\"RAM usada: {ram.used / (1024**3):.2f} GB / {ram.total / (1024**3):.2f} GB ({ram.percent}%)\")\n"
   ]
  },
  {
   "cell_type": "code",
   "execution_count": null,
   "id": "f688b8e4-c260-431a-b053-c629860c7dab",
   "metadata": {},
   "outputs": [],
   "source": []
  }
 ],
 "metadata": {
  "kernelspec": {
   "display_name": "Python 3 (ipykernel)",
   "language": "python",
   "name": "python3"
  },
  "language_info": {
   "codemirror_mode": {
    "name": "ipython",
    "version": 3
   },
   "file_extension": ".py",
   "mimetype": "text/x-python",
   "name": "python",
   "nbconvert_exporter": "python",
   "pygments_lexer": "ipython3",
   "version": "3.10.12"
  }
 },
 "nbformat": 4,
 "nbformat_minor": 5
}
