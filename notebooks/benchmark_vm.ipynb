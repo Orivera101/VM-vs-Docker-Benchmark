{
 "cells": [
  {
   "cell_type": "code",
   "execution_count": 1,
   "id": "39af228a-d50f-4309-85de-42816f939b4a",
   "metadata": {},
   "outputs": [
    {
     "name": "stdout",
     "output_type": "stream",
     "text": [
      "🔍 Benchmark: Uso de recursos (CPU, RAM, Disco)\n",
      "\n",
      "🧠 Uso de CPU (reposo):\n",
      "CPU utilizada (reposo): 6.90%\n",
      "\n",
      "🔥 Estresando CPU durante 5 segundos...\n",
      "CPU utilizada (carga): 2.40%\n",
      "\n",
      "🧮 Memoria RAM utilizada: 12.21 GB / 15.25 GB (80.1%)\n",
      "\n",
      "💾 Espacio en disco (sistema de archivos '/'): \n",
      "Total: 926.47 GB\n",
      "Usado: 891.14 GB\n",
      "Libre: 35.33 GB\n"
     ]
    }
   ],
   "source": [
    "import psutil\n",
    "import shutil\n",
    "import os\n",
    "import platform\n",
    "import time\n",
    "from datetime import datetime\n",
    "import matplotlib.pyplot as plt\n",
    "\n",
    "# Título\n",
    "print(\"🔍 Benchmark: Uso de recursos (CPU, RAM, Disco)\")\n",
    "\n",
    "# 📊 1. CPU (porcentaje de uso durante 5 segundos en reposo)\n",
    "print(\"\\n🧠 Uso de CPU (reposo):\")\n",
    "cpu_idle = psutil.cpu_percent(interval=5)\n",
    "print(f\"CPU utilizada (reposo): {cpu_idle:.2f}%\")\n",
    "\n",
    "# Simular carga para estrés (5 segundos)\n",
    "print(\"\\n🔥 Estresando CPU durante 5 segundos...\")\n",
    "start = time.time()\n",
    "while time.time() - start < 5:\n",
    "    [x**2 for x in range(10000)]  # pequeña carga\n",
    "\n",
    "cpu_load = psutil.cpu_percent(interval=1)\n",
    "print(f\"CPU utilizada (carga): {cpu_load:.2f}%\")\n",
    "\n",
    "# 📊 2. RAM\n",
    "mem = psutil.virtual_memory()\n",
    "total_ram = mem.total / (1024**3)\n",
    "used_ram = mem.used / (1024**3)\n",
    "percent_ram = mem.percent\n",
    "print(f\"\\n🧮 Memoria RAM utilizada: {used_ram:.2f} GB / {total_ram:.2f} GB ({percent_ram}%)\")\n",
    "\n",
    "# 📊 3. Disco\n",
    "total, used, free = shutil.disk_usage(\"/\")\n",
    "print(f\"\\n💾 Espacio en disco (sistema de archivos '/'): \")\n",
    "print(f\"Total: {total / (1024**3):.2f} GB\")\n",
    "print(f\"Usado: {used / (1024**3):.2f} GB\")\n",
    "print(f\"Libre: {free / (1024**3):.2f} GB\")\n",
    "\n",
    "# 📌 Guardar resultados en un diccionario (opcional para graficar después)\n",
    "benchmark_results = {\n",
    "    \"timestamp\": datetime.now().isoformat(),\n",
    "    \"cpu_idle\": cpu_idle,\n",
    "    \"cpu_load\": cpu_load,\n",
    "    \"ram_used_gb\": used_ram,\n",
    "    \"ram_total_gb\": total_ram,\n",
    "    \"ram_percent\": percent_ram,\n",
    "    \"disk_total_gb\": total / (1024**3),\n",
    "    \"disk_used_gb\": used / (1024**3),\n",
    "    \"disk_free_gb\": free / (1024**3)\n",
    "}\n",
    "\n",
    "# Puedes guardar esto en un JSON/CSV si quieres comparar luego con pandas\n"
   ]
  },
  {
   "cell_type": "code",
   "execution_count": null,
   "id": "20b0742b-d993-4a23-b257-dc17d8078d87",
   "metadata": {},
   "outputs": [],
   "source": [
    "import subprocess\n",
    "\n",
    "print(\"🚀 Analizando tiempo de arranque con systemd...\")\n",
    "\n",
    "output = subprocess.check_output(\"systemd-analyze\", shell=True).decode()\n",
    "print(f\"🕒 {output}\")"
   ]
  }
 ],
 "metadata": {
  "kernelspec": {
   "display_name": "Python 3 (ipykernel)",
   "language": "python",
   "name": "python3"
  },
  "language_info": {
   "codemirror_mode": {
    "name": "ipython",
    "version": 3
   },
   "file_extension": ".py",
   "mimetype": "text/x-python",
   "name": "python",
   "nbconvert_exporter": "python",
   "pygments_lexer": "ipython3",
   "version": "3.13.3"
  }
 },
 "nbformat": 4,
 "nbformat_minor": 5
}
